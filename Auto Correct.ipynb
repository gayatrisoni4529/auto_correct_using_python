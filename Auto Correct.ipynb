{
 "cells": [
  {
   "cell_type": "code",
   "execution_count": 98,
   "id": "fa0bd428",
   "metadata": {},
   "outputs": [
    {
     "name": "stdout",
     "output_type": "stream",
     "text": [
      "Requirement already satisfied: nltk in c:\\users\\2021\\anaconda3\\new folder\\lib\\site-packages (3.7)\n",
      "Requirement already satisfied: regex>=2021.8.3 in c:\\users\\2021\\anaconda3\\new folder\\lib\\site-packages (from nltk) (2022.7.9)\n",
      "Requirement already satisfied: joblib in c:\\users\\2021\\anaconda3\\new folder\\lib\\site-packages (from nltk) (1.1.1)\n",
      "Requirement already satisfied: tqdm in c:\\users\\2021\\anaconda3\\new folder\\lib\\site-packages (from nltk) (4.64.1)\n",
      "Requirement already satisfied: click in c:\\users\\2021\\anaconda3\\new folder\\lib\\site-packages (from nltk) (8.0.4)\n",
      "Requirement already satisfied: colorama in c:\\users\\2021\\anaconda3\\new folder\\lib\\site-packages (from click->nltk) (0.4.6)\n",
      "Note: you may need to restart the kernel to use updated packages.\n"
     ]
    }
   ],
   "source": [
    "pip install nltk"
   ]
  },
  {
   "cell_type": "code",
   "execution_count": 99,
   "id": "2c70c567",
   "metadata": {},
   "outputs": [
    {
     "name": "stderr",
     "output_type": "stream",
     "text": [
      "[nltk_data] Downloading package punkt to\n",
      "[nltk_data]     C:\\Users\\2021\\AppData\\Roaming\\nltk_data...\n",
      "[nltk_data]   Package punkt is already up-to-date!\n",
      "[nltk_data] Downloading package omw-1.4 to\n",
      "[nltk_data]     C:\\Users\\2021\\AppData\\Roaming\\nltk_data...\n",
      "[nltk_data]   Package omw-1.4 is already up-to-date!\n"
     ]
    },
    {
     "data": {
      "text/plain": [
       "True"
      ]
     },
     "execution_count": 99,
     "metadata": {},
     "output_type": "execute_result"
    }
   ],
   "source": [
    "import nltk\n",
    "nltk.download('punkt')\n",
    "nltk.download('omw-1.4')"
   ]
  },
  {
   "cell_type": "code",
   "execution_count": 100,
   "id": "87e41936",
   "metadata": {},
   "outputs": [
    {
     "name": "stdout",
     "output_type": "stream",
     "text": [
      "Requirement already satisfied: textblob in c:\\users\\2021\\anaconda3\\new folder\\lib\\site-packages (0.17.1)Note: you may need to restart the kernel to use updated packages.\n",
      "\n",
      "Requirement already satisfied: nltk>=3.1 in c:\\users\\2021\\anaconda3\\new folder\\lib\\site-packages (from textblob) (3.7)\n",
      "Requirement already satisfied: regex>=2021.8.3 in c:\\users\\2021\\anaconda3\\new folder\\lib\\site-packages (from nltk>=3.1->textblob) (2022.7.9)\n",
      "Requirement already satisfied: tqdm in c:\\users\\2021\\anaconda3\\new folder\\lib\\site-packages (from nltk>=3.1->textblob) (4.64.1)\n",
      "Requirement already satisfied: joblib in c:\\users\\2021\\anaconda3\\new folder\\lib\\site-packages (from nltk>=3.1->textblob) (1.1.1)\n",
      "Requirement already satisfied: click in c:\\users\\2021\\anaconda3\\new folder\\lib\\site-packages (from nltk>=3.1->textblob) (8.0.4)\n",
      "Requirement already satisfied: colorama in c:\\users\\2021\\anaconda3\\new folder\\lib\\site-packages (from click->nltk>=3.1->textblob) (0.4.6)\n"
     ]
    }
   ],
   "source": [
    "pip install textblob"
   ]
  },
  {
   "cell_type": "code",
   "execution_count": 101,
   "id": "744101a1",
   "metadata": {},
   "outputs": [
    {
     "name": "stdout",
     "output_type": "stream",
     "text": [
      "Requirement already satisfied: autocorrect in c:\\users\\2021\\anaconda3\\new folder\\lib\\site-packages (2.6.1)Note: you may need to restart the kernel to use updated packages.\n",
      "\n"
     ]
    }
   ],
   "source": [
    "pip install autocorrect"
   ]
  },
  {
   "cell_type": "code",
   "execution_count": 102,
   "id": "45052dc3",
   "metadata": {},
   "outputs": [
    {
     "name": "stdout",
     "output_type": "stream",
     "text": [
      "Requirement already satisfied: pyspellchecker in c:\\users\\2021\\anaconda3\\new folder\\lib\\site-packages (0.7.2)Note: you may need to restart the kernel to use updated packages.\n",
      "\n"
     ]
    }
   ],
   "source": [
    "pip install pyspellchecker"
   ]
  },
  {
   "cell_type": "code",
   "execution_count": 103,
   "id": "6f9ef443",
   "metadata": {},
   "outputs": [
    {
     "name": "stdout",
     "output_type": "stream",
     "text": [
      "Requirement already satisfied: pattern in c:\\users\\2021\\anaconda3\\new folder\\lib\\site-packages (3.6)\n",
      "Requirement already satisfied: feedparser in c:\\users\\2021\\anaconda3\\new folder\\lib\\site-packages (from pattern) (6.0.10)\n",
      "Requirement already satisfied: scipy in c:\\users\\2021\\anaconda3\\new folder\\lib\\site-packages (from pattern) (1.10.0)\n",
      "Requirement already satisfied: nltk in c:\\users\\2021\\anaconda3\\new folder\\lib\\site-packages (from pattern) (3.7)\n",
      "Requirement already satisfied: future in c:\\users\\2021\\anaconda3\\new folder\\lib\\site-packages (from pattern) (0.18.3)\n",
      "Requirement already satisfied: pdfminer.six in c:\\users\\2021\\anaconda3\\new folder\\lib\\site-packages (from pattern) (20221105)\n",
      "Requirement already satisfied: lxml in c:\\users\\2021\\anaconda3\\new folder\\lib\\site-packages (from pattern) (4.9.1)\n",
      "Requirement already satisfied: beautifulsoup4 in c:\\users\\2021\\anaconda3\\new folder\\lib\\site-packages (from pattern) (4.11.1)\n",
      "Requirement already satisfied: mysqlclient in c:\\users\\2021\\anaconda3\\new folder\\lib\\site-packages (from pattern) (2.2.0)\n",
      "Requirement already satisfied: python-docx in c:\\users\\2021\\anaconda3\\new folder\\lib\\site-packages (from pattern) (0.8.11)\n",
      "Requirement already satisfied: cherrypy in c:\\users\\2021\\anaconda3\\new folder\\lib\\site-packages (from pattern) (18.8.0)\n",
      "Requirement already satisfied: backports.csv in c:\\users\\2021\\anaconda3\\new folder\\lib\\site-packages (from pattern) (1.0.7)\n",
      "Requirement already satisfied: requests in c:\\users\\2021\\anaconda3\\new folder\\lib\\site-packages (from pattern) (2.28.1)\n",
      "Requirement already satisfied: numpy in c:\\users\\2021\\anaconda3\\new folder\\lib\\site-packages (from pattern) (1.23.5)\n",
      "Requirement already satisfied: soupsieve>1.2 in c:\\users\\2021\\anaconda3\\new folder\\lib\\site-packages (from beautifulsoup4->pattern) (2.3.2.post1)\n",
      "Requirement already satisfied: more-itertools in c:\\users\\2021\\anaconda3\\new folder\\lib\\site-packages (from cherrypy->pattern) (9.1.0)\n",
      "Requirement already satisfied: zc.lockfile in c:\\users\\2021\\anaconda3\\new folder\\lib\\site-packages (from cherrypy->pattern) (3.0.post1)\n",
      "Requirement already satisfied: portend>=2.1.1 in c:\\users\\2021\\anaconda3\\new folder\\lib\\site-packages (from cherrypy->pattern) (3.2.0)\n",
      "Requirement already satisfied: cheroot>=8.2.1 in c:\\users\\2021\\anaconda3\\new folder\\lib\\site-packages (from cherrypy->pattern) (10.0.0)\n",
      "Requirement already satisfied: jaraco.collections in c:\\users\\2021\\anaconda3\\new folder\\lib\\site-packages (from cherrypy->pattern) (4.3.0)\n",
      "Requirement already satisfied: sgmllib3k in c:\\users\\2021\\anaconda3\\new folder\\lib\\site-packages (from feedparser->pattern) (1.0.0)\n",
      "Requirement already satisfied: joblib in c:\\users\\2021\\anaconda3\\new folder\\lib\\site-packages (from nltk->pattern) (1.1.1)\n",
      "Requirement already satisfied: regex>=2021.8.3 in c:\\users\\2021\\anaconda3\\new folder\\lib\\site-packages (from nltk->pattern) (2022.7.9)\n",
      "Requirement already satisfied: click in c:\\users\\2021\\anaconda3\\new folder\\lib\\site-packages (from nltk->pattern) (8.0.4)\n",
      "Requirement already satisfied: tqdm in c:\\users\\2021\\anaconda3\\new folder\\lib\\site-packages (from nltk->pattern) (4.64.1)\n",
      "Requirement already satisfied: charset-normalizer>=2.0.0 in c:\\users\\2021\\anaconda3\\new folder\\lib\\site-packages (from pdfminer.six->pattern) (2.0.4)\n",
      "Requirement already satisfied: cryptography>=36.0.0 in c:\\users\\2021\\anaconda3\\new folder\\lib\\site-packages (from pdfminer.six->pattern) (39.0.1)\n",
      "Requirement already satisfied: urllib3<1.27,>=1.21.1 in c:\\users\\2021\\anaconda3\\new folder\\lib\\site-packages (from requests->pattern) (1.26.14)\n",
      "Requirement already satisfied: certifi>=2017.4.17 in c:\\users\\2021\\anaconda3\\new folder\\lib\\site-packages (from requests->pattern) (2022.12.7)\n",
      "Requirement already satisfied: idna<4,>=2.5 in c:\\users\\2021\\anaconda3\\new folder\\lib\\site-packages (from requests->pattern) (3.4)\n",
      "Requirement already satisfied: jaraco.functools in c:\\users\\2021\\anaconda3\\new folder\\lib\\site-packages (from cheroot>=8.2.1->cherrypy->pattern) (3.8.0)\n",
      "Requirement already satisfied: cffi>=1.12 in c:\\users\\2021\\anaconda3\\new folder\\lib\\site-packages (from cryptography>=36.0.0->pdfminer.six->pattern) (1.15.1)\n",
      "Requirement already satisfied: tempora>=1.8 in c:\\users\\2021\\anaconda3\\new folder\\lib\\site-packages (from portend>=2.1.1->cherrypy->pattern) (5.5.0)\n",
      "Requirement already satisfied: colorama in c:\\users\\2021\\anaconda3\\new folder\\lib\\site-packages (from click->nltk->pattern) (0.4.6)\n",
      "Requirement already satisfied: jaraco.text in c:\\users\\2021\\anaconda3\\new folder\\lib\\site-packages (from jaraco.collections->cherrypy->pattern) (3.11.1)\n",
      "Requirement already satisfied: setuptools in c:\\users\\2021\\anaconda3\\new folder\\lib\\site-packages (from zc.lockfile->cherrypy->pattern) (65.6.3)\n",
      "Requirement already satisfied: pycparser in c:\\users\\2021\\anaconda3\\new folder\\lib\\site-packages (from cffi>=1.12->cryptography>=36.0.0->pdfminer.six->pattern) (2.21)\n",
      "Requirement already satisfied: pytz in c:\\users\\2021\\anaconda3\\new folder\\lib\\site-packages (from tempora>=1.8->portend>=2.1.1->cherrypy->pattern) (2022.7)\n",
      "Requirement already satisfied: jaraco.context>=4.1 in c:\\users\\2021\\anaconda3\\new folder\\lib\\site-packages (from jaraco.text->jaraco.collections->cherrypy->pattern) (4.3.0)\n",
      "Requirement already satisfied: inflect in c:\\users\\2021\\anaconda3\\new folder\\lib\\site-packages (from jaraco.text->jaraco.collections->cherrypy->pattern) (7.0.0)\n",
      "Requirement already satisfied: autocommand in c:\\users\\2021\\anaconda3\\new folder\\lib\\site-packages (from jaraco.text->jaraco.collections->cherrypy->pattern) (2.2.2)\n",
      "Requirement already satisfied: pydantic>=1.9.1 in c:\\users\\2021\\anaconda3\\new folder\\lib\\site-packages (from inflect->jaraco.text->jaraco.collections->cherrypy->pattern) (2.0.2)\n",
      "Requirement already satisfied: typing-extensions in c:\\users\\2021\\anaconda3\\new folder\\lib\\site-packages (from inflect->jaraco.text->jaraco.collections->cherrypy->pattern) (4.7.1)\n",
      "Requirement already satisfied: annotated-types>=0.4.0 in c:\\users\\2021\\anaconda3\\new folder\\lib\\site-packages (from pydantic>=1.9.1->inflect->jaraco.text->jaraco.collections->cherrypy->pattern) (0.5.0)\n",
      "Requirement already satisfied: pydantic-core==2.1.2 in c:\\users\\2021\\anaconda3\\new folder\\lib\\site-packages (from pydantic>=1.9.1->inflect->jaraco.text->jaraco.collections->cherrypy->pattern) (2.1.2)\n",
      "Note: you may need to restart the kernel to use updated packages.\n"
     ]
    }
   ],
   "source": [
    "pip install pattern"
   ]
  },
  {
   "cell_type": "code",
   "execution_count": 104,
   "id": "70d7724b",
   "metadata": {},
   "outputs": [
    {
     "name": "stdout",
     "output_type": "stream",
     "text": [
      "Requirement already satisfied: Correct in c:\\users\\2021\\anaconda3\\new folder\\lib\\site-packages (0.0.0a0)\n",
      "Note: you may need to restart the kernel to use updated packages.\n"
     ]
    }
   ],
   "source": [
    "pip install Correct"
   ]
  },
  {
   "cell_type": "code",
   "execution_count": 105,
   "id": "b03cd769",
   "metadata": {},
   "outputs": [],
   "source": [
    "from spellchecker import SpellChecker"
   ]
  },
  {
   "cell_type": "code",
   "execution_count": 106,
   "id": "4218d2be",
   "metadata": {},
   "outputs": [
    {
     "data": {
      "text/plain": [
       "['_SpellChecker__edit_distance_alt',\n",
       " '__class__',\n",
       " '__contains__',\n",
       " '__delattr__',\n",
       " '__dir__',\n",
       " '__doc__',\n",
       " '__eq__',\n",
       " '__format__',\n",
       " '__ge__',\n",
       " '__getattribute__',\n",
       " '__getitem__',\n",
       " '__gt__',\n",
       " '__hash__',\n",
       " '__init__',\n",
       " '__init_subclass__',\n",
       " '__iter__',\n",
       " '__le__',\n",
       " '__lt__',\n",
       " '__module__',\n",
       " '__ne__',\n",
       " '__new__',\n",
       " '__reduce__',\n",
       " '__reduce_ex__',\n",
       " '__repr__',\n",
       " '__setattr__',\n",
       " '__sizeof__',\n",
       " '__slots__',\n",
       " '__str__',\n",
       " '__subclasshook__',\n",
       " '_case_sensitive',\n",
       " '_check_if_should_check',\n",
       " '_distance',\n",
       " '_tokenizer',\n",
       " '_word_frequency',\n",
       " 'candidates',\n",
       " 'correction',\n",
       " 'distance',\n",
       " 'edit_distance_1',\n",
       " 'edit_distance_2',\n",
       " 'export',\n",
       " 'known',\n",
       " 'languages',\n",
       " 'split_words',\n",
       " 'unknown',\n",
       " 'word_frequency',\n",
       " 'word_usage_frequency']"
      ]
     },
     "execution_count": 106,
     "metadata": {},
     "output_type": "execute_result"
    }
   ],
   "source": [
    "dir(SpellChecker)"
   ]
  },
  {
   "cell_type": "code",
   "execution_count": 107,
   "id": "46afeb33",
   "metadata": {},
   "outputs": [],
   "source": [
    "spell = SpellChecker()"
   ]
  },
  {
   "cell_type": "code",
   "execution_count": 108,
   "id": "26b281f1",
   "metadata": {},
   "outputs": [],
   "source": [
    "docx = [\"calender\",\"lightening\",\"misspel\",\"neccessary\",\"bussiness\",\"recieve\",\"adress\"]"
   ]
  },
  {
   "cell_type": "code",
   "execution_count": 109,
   "id": "ca45d388",
   "metadata": {},
   "outputs": [
    {
     "name": "stdout",
     "output_type": "stream",
     "text": [
      "calender:calender\n",
      "lightening:lightening\n",
      "misspel:misspell\n",
      "neccessary:necessary\n",
      "bussiness:business\n",
      "recieve:receive\n",
      "adress:dress\n"
     ]
    }
   ],
   "source": [
    "for word in docx:\n",
    "    print(f'{word}:{spell.correction(word)}')"
   ]
  },
  {
   "cell_type": "code",
   "execution_count": 110,
   "id": "565add9b",
   "metadata": {},
   "outputs": [
    {
     "name": "stdout",
     "output_type": "stream",
     "text": [
      "calender:{'calender'}\n",
      "lightening:{'lightening'}\n",
      "misspel:{'misspell'}\n",
      "neccessary:{'necessary'}\n",
      "bussiness:{'business', 'bussines'}\n",
      "recieve:{'receive', 'relieve'}\n",
      "adress:{'dress', 'address'}\n"
     ]
    }
   ],
   "source": [
    "for word in docx:\n",
    "    print(f'{word}:{spell.candidates(word)}')"
   ]
  },
  {
   "cell_type": "code",
   "execution_count": 111,
   "id": "30630c00",
   "metadata": {},
   "outputs": [],
   "source": [
    "name = \"firstee\""
   ]
  },
  {
   "cell_type": "code",
   "execution_count": 112,
   "id": "d9041cc1",
   "metadata": {},
   "outputs": [
    {
     "data": {
      "text/plain": [
       "'first'"
      ]
     },
     "execution_count": 112,
     "metadata": {},
     "output_type": "execute_result"
    }
   ],
   "source": [
    "spell.correction(name)"
   ]
  },
  {
   "cell_type": "code",
   "execution_count": 113,
   "id": "3959c869",
   "metadata": {},
   "outputs": [
    {
     "data": {
      "text/plain": [
       "{'first', 'firstly', 'firsts', 'fisted', 'frisbee', 'kirsten'}"
      ]
     },
     "execution_count": 113,
     "metadata": {},
     "output_type": "execute_result"
    }
   ],
   "source": [
    "spell.candidates(name)"
   ]
  },
  {
   "cell_type": "code",
   "execution_count": 116,
   "id": "d675f38f",
   "metadata": {},
   "outputs": [],
   "source": [
    "from autocorrect import spell"
   ]
  },
  {
   "cell_type": "code",
   "execution_count": 117,
   "id": "fc2c0eb4",
   "metadata": {},
   "outputs": [
    {
     "data": {
      "text/plain": [
       "['calender',\n",
       " 'lightening',\n",
       " 'misspel',\n",
       " 'neccessary',\n",
       " 'bussiness',\n",
       " 'recieve',\n",
       " 'adress']"
      ]
     },
     "execution_count": 117,
     "metadata": {},
     "output_type": "execute_result"
    }
   ],
   "source": [
    "docx"
   ]
  },
  {
   "cell_type": "code",
   "execution_count": 118,
   "id": "6b3c7e52",
   "metadata": {},
   "outputs": [
    {
     "name": "stdout",
     "output_type": "stream",
     "text": [
      "autocorrect.spell is deprecated,             use autocorrect.Speller instead\n",
      "calendar\n",
      "autocorrect.spell is deprecated,             use autocorrect.Speller instead\n",
      "lightning\n",
      "autocorrect.spell is deprecated,             use autocorrect.Speller instead\n",
      "missed\n",
      "autocorrect.spell is deprecated,             use autocorrect.Speller instead\n",
      "necessary\n",
      "autocorrect.spell is deprecated,             use autocorrect.Speller instead\n",
      "business\n",
      "autocorrect.spell is deprecated,             use autocorrect.Speller instead\n",
      "receive\n",
      "autocorrect.spell is deprecated,             use autocorrect.Speller instead\n",
      "address\n"
     ]
    }
   ],
   "source": [
    "for word in docx:\n",
    "    print(spell(word))"
   ]
  },
  {
   "cell_type": "code",
   "execution_count": 119,
   "id": "0d9cb545",
   "metadata": {},
   "outputs": [],
   "source": [
    " from textblob import TextBlob,Word"
   ]
  },
  {
   "cell_type": "code",
   "execution_count": 120,
   "id": "d7fa2a02",
   "metadata": {},
   "outputs": [],
   "source": [
    "ex = TextBlob(\"He was very accomondation in the new location\")"
   ]
  },
  {
   "cell_type": "code",
   "execution_count": 121,
   "id": "f50bdfab",
   "metadata": {},
   "outputs": [
    {
     "name": "stdout",
     "output_type": "stream",
     "text": [
      "He : He\n",
      "was : was\n",
      "very : very\n",
      "accomondation : accommodation\n",
      "in : in\n",
      "the : the\n",
      "new : new\n",
      "location : location\n"
     ]
    }
   ],
   "source": [
    "for word in ex.words:\n",
    "    print(word,\":\",word.correct())"
   ]
  },
  {
   "cell_type": "code",
   "execution_count": 122,
   "id": "5488d6ee",
   "metadata": {},
   "outputs": [],
   "source": [
    "w = Word(\"abscence\")"
   ]
  },
  {
   "cell_type": "code",
   "execution_count": 123,
   "id": "a00853e6",
   "metadata": {},
   "outputs": [
    {
     "data": {
      "text/plain": [
       "[('absence', 1.0)]"
      ]
     },
     "execution_count": 123,
     "metadata": {},
     "output_type": "execute_result"
    }
   ],
   "source": [
    "w.spellcheck()"
   ]
  }
 ],
 "metadata": {
  "kernelspec": {
   "display_name": "Python 3 (ipykernel)",
   "language": "python",
   "name": "python3"
  },
  "language_info": {
   "codemirror_mode": {
    "name": "ipython",
    "version": 3
   },
   "file_extension": ".py",
   "mimetype": "text/x-python",
   "name": "python",
   "nbconvert_exporter": "python",
   "pygments_lexer": "ipython3",
   "version": "3.10.9"
  }
 },
 "nbformat": 4,
 "nbformat_minor": 5
}
